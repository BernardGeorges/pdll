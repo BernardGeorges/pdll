{
 "cells": [
  {
   "cell_type": "code",
   "execution_count": 2,
   "id": "47ff459a",
   "metadata": {},
   "outputs": [],
   "source": [
    "import pandas as pd"
   ]
  },
  {
   "cell_type": "code",
   "execution_count": null,
   "id": "72fdbd44",
   "metadata": {},
   "outputs": [
    {
     "name": "stdout",
     "output_type": "stream",
     "text": [
      "24953.279905576706\n",
      "Total Seconds: 24953.279905576706\n",
      "Formatted Time: 06:55:53\n",
      "\n",
      "Mean of columns:\n",
      " 0.8671462807056389\n"
     ]
    }
   ],
   "source": [
    "df = pd.read_parquet('Base_SVC.parquet')\n",
    "# Compute sum and mean\n",
    "sum_values = df[[ \"data_time\", \"pdc_time\"]].sum().sum().sum()\n",
    "mean_values = df[\"pdc_test_f1\"].mean()\n",
    "\n",
    "hours, remainder = divmod(sum_values, 3600)\n",
    "minutes, seconds = divmod(remainder, 60)\n",
    "time_str = f\"{int(hours):02d}:{int(minutes):02d}:{int(seconds):02d}\"\n",
    "\n",
    "print(\"\\nMean of F1 Score:\\n\", mean_values)"
   ]
  },
  {
   "cell_type": "code",
   "execution_count": 14,
   "id": "6c01a8ee",
   "metadata": {},
   "outputs": [
    {
     "data": {
      "text/plain": [
       "95     [10.450131893157959, 9.144083499908447, 9.8516...\n",
       "136    [0.7468292713165283, 0.8193957805633545, 0.700...\n",
       "71     [0.3322114944458008, 0.22031903266906738, 0.21...\n",
       "129    [1.6097047328948975, 1.4719254970550537, 1.504...\n",
       "146    [19.506662368774414, 15.41395902633667, 15.293...\n",
       "                             ...                        \n",
       "134    [2.1594901084899902, 2.459548234939575, 2.2224...\n",
       "42     [0.12856173515319824, 0.16300606727600098, 0.1...\n",
       "58     [0.1223745346069336, 0.1460716724395752, 0.156...\n",
       "49     [0.1360151767730713, 0.12615084648132324, 0.14...\n",
       "72     [0.2839019298553467, 0.265794038772583, 0.2445...\n",
       "Name: pdc_fit_time, Length: 195, dtype: object"
      ]
     },
     "execution_count": 14,
     "metadata": {},
     "output_type": "execute_result"
    }
   ],
   "source": [
    "df[\"pdc_fit_time\"]"
   ]
  },
  {
   "cell_type": "code",
   "execution_count": 10,
   "id": "0f5012f5",
   "metadata": {},
   "outputs": [
    {
     "data": {
      "text/plain": [
       "Index(['data_id', 'target_unique_vals', 'NumberOfFeatures_post_processing',\n",
       "       'pairwise_complexity_post_processing', 'base_fit_time',\n",
       "       'base_score_time', 'base_test_f1_macro', 'base_train_f1_macro',\n",
       "       'base_test_neg_log_loss', 'base_train_neg_log_loss',\n",
       "       'base_test_neg_brier_score', 'base_train_neg_brier_score',\n",
       "       'base_n_jobs_cv', 'base_cpu', 'base_ram', 'base_test_f1', 'base_time',\n",
       "       'pdc_fit_time', 'pdc_score_time', 'pdc_test_f1_macro',\n",
       "       'pdc_train_f1_macro', 'pdc_test_neg_log_loss', 'pdc_train_neg_log_loss',\n",
       "       'pdc_test_neg_brier_score', 'pdc_train_neg_brier_score',\n",
       "       'pdc_n_jobs_cv', 'pdc_cpu', 'pdc_ram', 'pdc_test_f1', 'pdc_time',\n",
       "       'pdc_ram_max', 'data_time', 'name', 'version', 'uploader', 'status',\n",
       "       'format', 'MajorityClassSize', 'MaxNominalAttDistinctValues',\n",
       "       'MinorityClassSize', 'NumberOfClasses', 'NumberOfFeatures',\n",
       "       'NumberOfInstances', 'NumberOfInstancesWithMissingValues',\n",
       "       'NumberOfMissingValues', 'NumberOfNumericFeatures',\n",
       "       'NumberOfSymbolicFeatures', 'MinorityClassRatio', 'complexity',\n",
       "       'pairwise_complexity', 'NumberOfInstances2', 'base_train_f1',\n",
       "       'pdc_train_f1', 'diff'],\n",
       "      dtype='object')"
      ]
     },
     "execution_count": 10,
     "metadata": {},
     "output_type": "execute_result"
    }
   ],
   "source": [
    "df.columns\n"
   ]
  },
  {
   "cell_type": "code",
   "execution_count": null,
   "id": "3b10a271",
   "metadata": {},
   "outputs": [],
   "source": []
  }
 ],
 "metadata": {
  "kernelspec": {
   "display_name": "pdll",
   "language": "python",
   "name": "python3"
  },
  "language_info": {
   "codemirror_mode": {
    "name": "ipython",
    "version": 3
   },
   "file_extension": ".py",
   "mimetype": "text/x-python",
   "name": "python",
   "nbconvert_exporter": "python",
   "pygments_lexer": "ipython3",
   "version": "3.13.0"
  }
 },
 "nbformat": 4,
 "nbformat_minor": 5
}
